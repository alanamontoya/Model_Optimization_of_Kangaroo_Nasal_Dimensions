{
 "cells": [
  {
   "cell_type": "markdown",
   "id": "c79ffa3e",
   "metadata": {},
   "source": [
    "## PROBLEM:\n",
    "In this exercise, you are going to use the kangaroo’s nasal dimension data. Use the gradient descent algorithm to predict the optimal intercept and gradient for this problem. Report your gradient values."
   ]
  },
  {
   "cell_type": "markdown",
   "id": "e7e489ab",
   "metadata": {},
   "source": [
    "_Since we will need the `pandas` package to perform various aspects of this analysis, we can import this now:_"
   ]
  },
  {
   "cell_type": "code",
   "execution_count": null,
   "id": "b3de3beb",
   "metadata": {},
   "outputs": [],
   "source": [
    "import pandas as pd"
   ]
  },
  {
   "cell_type": "markdown",
   "id": "999b4c4f",
   "metadata": {},
   "source": [
    "_First we need to load in the kangaroo nasal dimension data:_\n",
    "\n",
    "> _Note: __[this](https://www.reddit.com/r/learnpython/comments/pxretf/read_excel_xls_file/)__ source was used to find how to load in '.xls' files:_"
   ]
  },
  {
   "cell_type": "code",
   "execution_count": 10,
   "id": "2379c470",
   "metadata": {},
   "outputs": [
    {
     "name": "stdout",
     "output_type": "stream",
     "text": [
      "*** No CODEPAGE record, no encoding_override: will use 'iso-8859-1'\n"
     ]
    }
   ],
   "source": [
    "x_y_data = pd.read_excel(r'slr07.xls', engine = 'xlrd')"
   ]
  },
  {
   "cell_type": "markdown",
   "id": "cb57f28a",
   "metadata": {},
   "source": [
    "_In order to build a linear regression model using gradient descent, we will need to import `SGDRegressor` from `sklearn.linear_model` which implements a plain stochastic gradient descent learning routine._"
   ]
  },
  {
   "cell_type": "code",
   "execution_count": 11,
   "id": "a0cf4aba",
   "metadata": {},
   "outputs": [],
   "source": [
    "from sklearn.linear_model import SGDRegressor"
   ]
  },
  {
   "cell_type": "markdown",
   "id": "135873e0",
   "metadata": {},
   "source": [
    "_Now, we need to create a new variable `X` to represent the `X` values in the `x_y_data` dataset and `y` to represent the `y` values in the `x_y_data` dataset. We will use the new variable `X` as our predictor variable and the new variable `y` as our response variable._"
   ]
  },
  {
   "cell_type": "code",
   "execution_count": 12,
   "id": "c78cecfb",
   "metadata": {},
   "outputs": [],
   "source": [
    "X = x_y_data['X'].array.reshape(-1, 1)\n",
    "y = x_y_data['Y']"
   ]
  },
  {
   "cell_type": "markdown",
   "id": "902ac783",
   "metadata": {},
   "source": [
    "_Then we can fit a linear regression model through plain stochastic gradient descent using `SGDRegressor`._\n",
    "\n",
    "> _Note: after this model predicted results that were much larger than what was expected, I consulted __[this](https://stackoverflow.com/questions/31443840/sgdregressor-nonsensical-result/42960510)__ source to resolve the issue. The problem was that the **default** initial learning rate (as represented by `eta0`) is set to 0.01, which too large (too large of steps were taken). After experimenting with different values for this parameter I was able to reach results that were much more reasonable._\n",
    "\n",
    "> _Note: all other parameters accepted default values. Specifically note that `alpha` = 0.0001 (learning rate) and `max_iter` = 1000 (maximum number iterations), as noted by the `sklearn.linear_model.SGDRegressor` documentation._"
   ]
  },
  {
   "cell_type": "code",
   "execution_count": 13,
   "id": "4f53236f",
   "metadata": {},
   "outputs": [
    {
     "data": {
      "text/plain": [
       "SGDRegressor(eta0=1e-05)"
      ]
     },
     "execution_count": 13,
     "metadata": {},
     "output_type": "execute_result"
    }
   ],
   "source": [
    "clf = SGDRegressor(eta0 = 0.00001)\n",
    "clf.fit(X, y)"
   ]
  },
  {
   "cell_type": "markdown",
   "id": "169d949d",
   "metadata": {},
   "source": [
    "_Now we can check if our model is predicting reasonable values given `X` as the input._"
   ]
  },
  {
   "cell_type": "code",
   "execution_count": 14,
   "id": "4d3fadad",
   "metadata": {},
   "outputs": [
    {
     "data": {
      "text/plain": [
       "array([199.62601307, 206.10671437, 203.19039879, 185.04443515,\n",
       "       211.29127542, 162.03794553, 198.65390788, 216.15180139,\n",
       "       206.43074944, 220.04022217, 254.38793906, 201.89425853,\n",
       "       237.86215075, 264.75706114, 254.38793906, 268.96951699,\n",
       "       246.93513257, 232.35355464, 229.43723906, 262.48881569,\n",
       "       279.33863907, 273.83004296, 271.23776244, 282.25495465,\n",
       "       208.05092476, 185.36847021, 184.39636502, 190.22899619,\n",
       "       195.41355723, 195.73759229, 208.37495983, 183.42425982,\n",
       "       201.57022346, 242.07460659, 221.6603975 , 221.01232737,\n",
       "       206.10671437, 226.52092347, 232.35355464, 238.83425594,\n",
       "       249.52741309, 224.57671308, 234.6218001 , 241.1025014 ,\n",
       "       266.70127153])"
      ]
     },
     "execution_count": 14,
     "metadata": {},
     "output_type": "execute_result"
    }
   ],
   "source": [
    "clf.predict(X)"
   ]
  },
  {
   "cell_type": "markdown",
   "id": "ecf0b193",
   "metadata": {},
   "source": [
    "_These value are very close to the actual `Y` values in the dataset, showing that our model appears to be working._\n",
    "\n",
    "_Next, we can extract the coefficient and intercept values of our model._"
   ]
  },
  {
   "cell_type": "code",
   "execution_count": 15,
   "id": "4b924776",
   "metadata": {},
   "outputs": [
    {
     "name": "stdout",
     "output_type": "stream",
     "text": [
      "[0.32403507]\n",
      "[2.28865848]\n"
     ]
    }
   ],
   "source": [
    "coef = clf.coef_\n",
    "print(coef)\n",
    "\n",
    "intercept = clf.intercept_\n",
    "print(intercept)"
   ]
  },
  {
   "cell_type": "markdown",
   "id": "a5f11360",
   "metadata": {},
   "source": [
    "_From this we see that the optimal gradient and intercept are those printed above (respectively)._"
   ]
  }
 ],
 "metadata": {
  "kernelspec": {
   "display_name": "Python 3 (ipykernel)",
   "language": "python",
   "name": "python3"
  },
  "language_info": {
   "codemirror_mode": {
    "name": "ipython",
    "version": 3
   },
   "file_extension": ".py",
   "mimetype": "text/x-python",
   "name": "python",
   "nbconvert_exporter": "python",
   "pygments_lexer": "ipython3",
   "version": "3.9.7"
  }
 },
 "nbformat": 4,
 "nbformat_minor": 5
}
